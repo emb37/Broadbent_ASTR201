{
 "cells": [
  {
   "cell_type": "markdown",
   "metadata": {},
   "source": [
    "ASTR 201 HW 1: Emily Broadbent"
   ]
  },
  {
   "cell_type": "code",
   "execution_count": 336,
   "metadata": {},
   "outputs": [],
   "source": [
    "import pandas as pd\n",
    "import numpy as np\n",
    "from astropy import units as u\n",
    "from astropy.constants import c,h,k_B, R_sun, L_sun,R_jup, R_earth, sigma_sb, G,M_earth\n",
    "import matplotlib.pyplot as plt\n",
    "from scipy import integrate"
   ]
  },
  {
   "cell_type": "markdown",
   "metadata": {},
   "source": [
    "*All constants, unit conversions, and numerical values (mass, radius, distances of the sun, earth, Jupiter etc.) are from AstroPy.units or Astropy.constants unless otherwise noted. "
   ]
  },
  {
   "cell_type": "markdown",
   "metadata": {},
   "source": [
    "Problems 2.5-2.7 in this notebook are supplement to the OverLeaf PDF. Here I show my calculations that acompany the equations discussed in the PDF"
   ]
  },
  {
   "cell_type": "markdown",
   "metadata": {},
   "source": [
    "# Problem 2.5"
   ]
  },
  {
   "cell_type": "code",
   "execution_count": null,
   "metadata": {},
   "outputs": [],
   "source": []
  },
  {
   "cell_type": "code",
   "execution_count": 337,
   "metadata": {},
   "outputs": [],
   "source": [
    "#convert Jupiter's distance \n",
    "D_sj = (5.2*u.au).to(u.m) #jupiter's distance https://www.jpl.nasa.gov/_edu/pdfs/scaless_reference.pdf"
   ]
  },
  {
   "cell_type": "code",
   "execution_count": 340,
   "metadata": {},
   "outputs": [
    {
     "name": "stdout",
     "output_type": "stream",
     "text": [
      "Thermal flux of the Sun at Jupiter's orbital distance: 50.0 W / m2\n"
     ]
    }
   ],
   "source": [
    "#Calculate the thermal flux of the Sun at Jupiter's orbital distance\n",
    "t= ((L_sun)/(4*np.pi*(D_sj)**2))\n",
    "print(\"Thermal flux of the Sun at Jupiter's orbital distance:\", t.round())"
   ]
  },
  {
   "cell_type": "markdown",
   "metadata": {},
   "source": [
    "# Problem 2.6"
   ]
  },
  {
   "cell_type": "code",
   "execution_count": 341,
   "metadata": {},
   "outputs": [],
   "source": [
    "#Calculate the thermal flux of Jupiter\n",
    "t=sigma_sb*(165*u.K)**4        # jupiter's temp: https://science.nasa.gov/resource/solar-system-temperatures/"
   ]
  },
  {
   "cell_type": "code",
   "execution_count": 342,
   "metadata": {},
   "outputs": [
    {
     "name": "stdout",
     "output_type": "stream",
     "text": [
      "Thermal flux of Jupiter: 42.0 W / m2\n"
     ]
    }
   ],
   "source": [
    "print(\"Thermal flux of Jupiter:\", t.round())"
   ]
  },
  {
   "cell_type": "markdown",
   "metadata": {},
   "source": [
    "# 2.7a"
   ]
  },
  {
   "cell_type": "code",
   "execution_count": 345,
   "metadata": {},
   "outputs": [
    {
     "data": {
      "text/latex": [
       "$25.965755 \\; \\mathrm{\\frac{m^{4}\\,g}{s^{2}\\,cm^{3}}}$"
      ],
      "text/plain": [
       "<Quantity 25.96575505 g m4 / (cm3 s2)>"
      ]
     },
     "execution_count": 345,
     "metadata": {},
     "output_type": "execute_result"
    }
   ],
   "source": [
    "#calculate mass of 1m^3 cube of rock\n",
    "m_other= 2.65*(u.g/u.cm**3)*u.m**3      #density of rock https://www.britannica.com/science/rock-geology/Physical-properties\n",
    "\n",
    "#calculate force of gravity\n",
    "F_g = (G*M_earth*m_other)/(R_earth**2)\n",
    "F_g"
   ]
  },
  {
   "cell_type": "code",
   "execution_count": 346,
   "metadata": {},
   "outputs": [
    {
     "data": {
      "text/latex": [
       "$2650 \\; \\mathrm{kg}$"
      ],
      "text/plain": [
       "<Quantity 2650. kg>"
      ]
     },
     "execution_count": 346,
     "metadata": {},
     "output_type": "execute_result"
    }
   ],
   "source": [
    "m_other.decompose()"
   ]
  },
  {
   "cell_type": "code",
   "execution_count": null,
   "metadata": {},
   "outputs": [],
   "source": []
  },
  {
   "cell_type": "code",
   "execution_count": 347,
   "metadata": {},
   "outputs": [
    {
     "data": {
      "text/latex": [
       "$2.5333333 \\times 10^{-15} \\; \\mathrm{\\frac{m^{2}\\,erg}{cm^{3}\\,K^{4}}}$"
      ],
      "text/plain": [
       "<Quantity 2.53333333e-15 erg m2 / (cm3 K4)>"
      ]
     },
     "execution_count": 347,
     "metadata": {},
     "output_type": "execute_result"
    }
   ],
   "source": [
    "a= 7.6*10**(-15)*(u.erg/((u.cm**3)*u.K**4))  #radiation constant- from textbook and lecture\n",
    "#calculate surface area of cube that sunlight/radiation hits\n",
    "s_area= 1*u.m**2\n",
    "#calculate force of pressure from cube\n",
    "F_p= (1/3)*a*s_area\n",
    "F_p"
   ]
  },
  {
   "cell_type": "code",
   "execution_count": 348,
   "metadata": {},
   "outputs": [
    {
     "data": {
      "text/latex": [
       "$10061.834 \\; \\mathrm{\\frac{K\\,m^{1/2}\\,g^{1/4}}{erg^{1/4}\\,s^{1/2}}}$"
      ],
      "text/plain": [
       "<Quantity 10061.83415105 g(1/4) K m(1/2) / (erg(1/4) s(1/2))>"
      ]
     },
     "execution_count": 348,
     "metadata": {},
     "output_type": "execute_result"
    }
   ],
   "source": [
    "#find temp for the limit of radiation pressure to exceed surface gravity\n",
    "T=(F_g/F_p)**(1/4)\n",
    "T"
   ]
  },
  {
   "cell_type": "code",
   "execution_count": 349,
   "metadata": {},
   "outputs": [
    {
     "data": {
      "text/latex": [
       "$100618.34 \\; \\mathrm{K}$"
      ],
      "text/plain": [
       "<Quantity 100618.3415105 K>"
      ]
     },
     "execution_count": 349,
     "metadata": {},
     "output_type": "execute_result"
    }
   ],
   "source": [
    "T.decompose()"
   ]
  },
  {
   "cell_type": "code",
   "execution_count": null,
   "metadata": {},
   "outputs": [],
   "source": []
  },
  {
   "cell_type": "markdown",
   "metadata": {},
   "source": [
    "# 2.7 b"
   ]
  },
  {
   "cell_type": "code",
   "execution_count": 350,
   "metadata": {},
   "outputs": [
    {
     "data": {
      "text/latex": [
       "$1.2505534 \\times 10^{13} \\; \\mathrm{\\frac{km^{3}\\,kg\\,m}{s^{2}\\,cm^{3}}}$"
      ],
      "text/plain": [
       "<Quantity 1.25055336e+13 kg km3 m / (cm3 s2)>"
      ]
     },
     "execution_count": 350,
     "metadata": {},
     "output_type": "execute_result"
    }
   ],
   "source": [
    "#find radius's of spheres to determine volume\n",
    "r1=600*u.km + R_earth           #end of the thermosphere\n",
    "r2=18*u.km + R_earth           #end of the troposphere \n",
    "                                #https://www.noaa.gov/jetstream/atmosphere/layers-of-atmosphere#:~:text=Thermosphere,one%20descends%20toward%20the%20Earth.\n",
    "\n",
    "V_air = (4*np.pi)*(r1**3 - r2**3)    # density of air https://www.earthdata.nasa.gov/topics/atmosphere/air-mass-density#:~:text=Pure%2C%20dry%20air%20has%20a,a%20pressure%20of%20101.325%20kPa.\n",
    "#calcualte mass of atmosphere\n",
    "m_other= 1.3*(u.kg/u.cm**3)*V_air\n",
    "#find force of gravity\n",
    "F_g = (G*M_earth*m_other)/(R_earth**2)\n",
    "F_g\n"
   ]
  },
  {
   "cell_type": "code",
   "execution_count": 351,
   "metadata": {},
   "outputs": [
    {
     "data": {
      "text/latex": [
       "$1.2762835 \\times 10^{27} \\; \\mathrm{kg}$"
      ],
      "text/plain": [
       "<Quantity 1.27628347e+27 kg>"
      ]
     },
     "execution_count": 351,
     "metadata": {},
     "output_type": "execute_result"
    }
   ],
   "source": [
    "m_other.decompose()"
   ]
  },
  {
   "cell_type": "code",
   "execution_count": 352,
   "metadata": {},
   "outputs": [
    {
     "data": {
      "text/latex": [
       "$1.2505534 \\times 10^{28} \\; \\mathrm{\\frac{kg\\,m}{s^{2}}}$"
      ],
      "text/plain": [
       "<Quantity 1.25055336e+28 kg m / s2>"
      ]
     },
     "execution_count": 352,
     "metadata": {},
     "output_type": "execute_result"
    }
   ],
   "source": [
    "F_g.decompose()"
   ]
  },
  {
   "cell_type": "code",
   "execution_count": 353,
   "metadata": {},
   "outputs": [
    {
     "data": {
      "text/latex": [
       "$1.5501602 \\times 10^{-6} \\; \\mathrm{\\frac{km^{2}\\,erg}{cm^{3}\\,K^{4}}}$"
      ],
      "text/plain": [
       "<Quantity 1.55016019e-06 erg km2 / (cm3 K4)>"
      ]
     },
     "execution_count": 353,
     "metadata": {},
     "output_type": "execute_result"
    }
   ],
   "source": [
    "a= 7.6*10**(-15)*(u.erg/((u.cm**3)*u.K**4))   #radiation constant- from textbook and lecture\n",
    "#calculate surface area of atmosphere\n",
    "s_area= 4*np.pi*r1**2\n",
    "#find Pressure force from atmoshpere\n",
    "F_p= (1/3)*a*s_area\n",
    "F_p"
   ]
  },
  {
   "cell_type": "code",
   "execution_count": 354,
   "metadata": {},
   "outputs": [
    {
     "data": {
      "text/latex": [
       "$53294.38 \\; \\mathrm{\\frac{K\\,kg^{1/4}\\,km^{1/4}\\,m^{1/4}}{erg^{1/4}\\,s^{1/2}}}$"
      ],
      "text/plain": [
       "<Quantity 53294.37973068 K kg(1/4) km(1/4) m(1/4) / (erg(1/4) s(1/2))>"
      ]
     },
     "execution_count": 354,
     "metadata": {},
     "output_type": "execute_result"
    }
   ],
   "source": [
    "#find temp for the limit of radiation pressure to exceed surface gravity\n",
    "T=(F_g/F_p)**(1/4)\n",
    "T"
   ]
  },
  {
   "cell_type": "code",
   "execution_count": 355,
   "metadata": {},
   "outputs": [
    {
     "data": {
      "text/latex": [
       "$16853163 \\; \\mathrm{K}$"
      ],
      "text/plain": [
       "<Quantity 16853162.64348596 K>"
      ]
     },
     "execution_count": 355,
     "metadata": {},
     "output_type": "execute_result"
    }
   ],
   "source": [
    "T.decompose()"
   ]
  },
  {
   "cell_type": "code",
   "execution_count": null,
   "metadata": {},
   "outputs": [],
   "source": []
  },
  {
   "cell_type": "markdown",
   "metadata": {},
   "source": [
    "# Promblem 3 A"
   ]
  },
  {
   "cell_type": "code",
   "execution_count": null,
   "metadata": {},
   "outputs": [],
   "source": []
  },
  {
   "cell_type": "code",
   "execution_count": 38,
   "metadata": {},
   "outputs": [],
   "source": [
    "#calculates and returns the intensity\n",
    "#lamb: array of wavelengths in log space\n",
    "#T: Temperature of object\n",
    "def B_lambda(lamb, T):\n",
    "    intensity = ((2*h*c**2)/lamb**5)/((np.e**(h*c/((lamb*k_B*T)))-1))\n",
    "    return intensity"
   ]
  },
  {
   "cell_type": "code",
   "execution_count": 39,
   "metadata": {},
   "outputs": [],
   "source": [
    "#create array of wavelengths in log space\n",
    "lambda_log_sampling= np.logspace(-1, 2, num=3000, base=10) * u.micron\n"
   ]
  },
  {
   "cell_type": "code",
   "execution_count": 148,
   "metadata": {},
   "outputs": [],
   "source": [
    "#calculates and returns the flux density\n",
    "#lamb_arr: array of wavelengths in log space\n",
    "#T_obj: Temperature of object\n",
    "#distance: observation distance\n",
    "#R_obj: radius of object\n",
    "def flux_density(lamb_arr,T_obj, distance, R_obj):\n",
    "    intensity = B_lambda(lambda_log_sampling,T_obj)\n",
    "    flux_density = intensity *(R_obj/distance)**2\n",
    "    return flux_density.to(u.erg/u.s/u.cm**3)"
   ]
  },
  {
   "cell_type": "code",
   "execution_count": null,
   "metadata": {},
   "outputs": [],
   "source": []
  },
  {
   "cell_type": "code",
   "execution_count": 43,
   "metadata": {},
   "outputs": [
    {
     "data": {
      "image/png": "[encoded data removed]",
      "text/plain": [
       "<Figure size 432x288 with 1 Axes>"
      ]
     },
     "metadata": {
      "needs_background": "light"
     },
     "output_type": "display_data"
    }
   ],
   "source": [
    "#defines numerical values and plots the Blackbody Spectrum of Sun\n",
    "\n",
    "T_sun = 5778*u.K       #https://www.pveducation.org/pvcdrom/properties-of-sunlight/the-sun#:~:text=For%20simplicity%2C%20the%206000%20K%20spectrum%20is,when%20classifying%20the%20sun%20as%20a%20star.\n",
    "T_obj = T_sun\n",
    "distance = 10*u.pc\n",
    "R_obj = R_sun\n",
    "lamb_arr = lambda_log_sampling\n",
    "\n",
    "x = lamb_arr\n",
    "y = flux_density(lamb_arr,T_obj, distance, R_obj)\n",
    "\n",
    "plt.loglog(x, y) \n",
    "plt.xlabel('Wavelength (microns)') \n",
    "plt.ylabel('Flux Density(erg/s/cm^3)') \n",
    "plt.title('Blackbody Spectrum of Sun') \n",
    "plt.show() \n"
   ]
  },
  {
   "cell_type": "code",
   "execution_count": null,
   "metadata": {},
   "outputs": [],
   "source": []
  },
  {
   "cell_type": "markdown",
   "metadata": {},
   "source": [
    "# Problem 3 B"
   ]
  },
  {
   "cell_type": "code",
   "execution_count": null,
   "metadata": {},
   "outputs": [],
   "source": [
    "#Sun-like star with M5 dwarf companion"
   ]
  },
  {
   "cell_type": "code",
   "execution_count": 418,
   "metadata": {},
   "outputs": [
    {
     "data": {
      "image/png": "[encoded data removed]",
      "text/plain": [
       "<Figure size 432x288 with 1 Axes>"
      ]
     },
     "metadata": {
      "needs_background": "light"
     },
     "output_type": "display_data"
    }
   ],
   "source": [
    "#plots the blackbody radiation for a sun-like star with M5 dwarf companion, individually and combined\n",
    "\n",
    "T_sun = 5778*u.K\n",
    "T_M5 = 3100*u.K        # Cifuentes et.al 2020 https://arxiv.org/pdf/2007.15077\n",
    "R_sun = R_sun\n",
    "R_M5 = 0.207 * R_sun   # Cifuentes et.al 2020 https://arxiv.org/pdf/2007.15077\n",
    "\n",
    "T_obj1 = T_sun\n",
    "T_obj2 = T_M5\n",
    "\n",
    "distance = 10*u.pc\n",
    "\n",
    "R_obj1 = R_sun\n",
    "R_obj2 = R_M5\n",
    "\n",
    "lambda_log_sampling= np.logspace(-1.5, 2, num=1000, base=10) * u.micron\n",
    "lamb_arr = lambda_log_sampling\n",
    "\n",
    "flux_1 = flux_density(lamb_arr,T_obj1, distance, R_obj1)\n",
    "flux_2 = flux_density(lamb_arr,T_obj2, distance, R_obj2)\n",
    "\n",
    "x = lamb_arr\n",
    "y = flux_1 + flux_2\n",
    "plt.loglog(x, y, label='Combined') \n",
    "\n",
    "x = lamb_arr\n",
    "y = flux_1\n",
    "plt.loglog(x, y, label='Sun-Like')\n",
    "\n",
    "x = lamb_arr\n",
    "y = flux_2\n",
    "plt.loglog(x, y, label='M5 Dwarf')\n",
    "\n",
    "plt.xlabel('Wavelength (microns)') \n",
    "plt.ylabel('Flux Density(erg/s/cm^3)') \n",
    "plt.title('Blackbody Spectrum of Sun-like star with M5 dwarf companion')\n",
    "plt.ylim(10**(-10), 10**(-2))\n",
    "plt.legend(loc='best')\n",
    "plt.show() \n"
   ]
  },
  {
   "cell_type": "code",
   "execution_count": 419,
   "metadata": {},
   "outputs": [
    {
     "data": {
      "image/png": "[encoded data removed]",
      "text/plain": [
       "<Figure size 432x288 with 1 Axes>"
      ]
     },
     "metadata": {
      "needs_background": "light"
     },
     "output_type": "display_data"
    }
   ],
   "source": [
    "x = lamb_arr\n",
    "y = flux_1 + flux_2\n",
    "plt.loglog(x, y, label='Combined') \n",
    "\n",
    "plt.xlabel('Wavelength (microns)') \n",
    "plt.ylabel('Flux Density(erg/s/cm^3)') \n",
    "plt.title('Blackbody Spectrum of Sun-like star with M5 dwarf companion')\n",
    "plt.ylim(10**(-10), 10**(-2))\n",
    "plt.legend(loc='best')\n",
    "plt.show() "
   ]
  },
  {
   "cell_type": "markdown",
   "metadata": {},
   "source": [
    "From the figure above, the sun-like star dominates the spectrum. The sun-like star nearly exactly overlaps with the combined spectrum. If only looking at the combined spectra, you would not be able to identify a companion"
   ]
  },
  {
   "cell_type": "code",
   "execution_count": 420,
   "metadata": {},
   "outputs": [],
   "source": [
    "#M5 dwarf with 10,000K WD companion "
   ]
  },
  {
   "cell_type": "code",
   "execution_count": 421,
   "metadata": {},
   "outputs": [
    {
     "data": {
      "image/png": "[encoded data removed]",
      "text/plain": [
       "<Figure size 432x288 with 1 Axes>"
      ]
     },
     "metadata": {
      "needs_background": "light"
     },
     "output_type": "display_data"
    }
   ],
   "source": [
    "#plots the blackbody radiation for a M5 dwarf with 10,000K WD companion, individually and combined\n",
    "\n",
    "T_M5 = 3100*u.K        # Cifuentes et.al 2020 https://arxiv.org/pdf/2007.15077\n",
    "T_wd = 10000*u.K        #given\n",
    "R_M5 = 0.207 * R_sun    # Cifuentes et.al 2020 https://arxiv.org/pdf/2007.15077\n",
    "R_wd = 0.01 * R_sun    #shipman 1978 https://articles.adsabs.harvard.edu/pdf/1979ApJ...228..240S\n",
    "\n",
    "T_obj1 = T_M5\n",
    "T_obj2 = T_wd\n",
    "\n",
    "distance = 10*u.pc\n",
    "\n",
    "R_obj1 = R_M5\n",
    "R_obj2 = R_wd\n",
    "\n",
    "lambda_log_sampling= np.logspace(-1.5, 2, num=1000, base=10) * u.micron\n",
    "lamb_arr = lambda_log_sampling\n",
    "\n",
    "flux_1 = flux_density(lamb_arr,T_obj1, distance, R_obj1)\n",
    "flux_2 = flux_density(lamb_arr,T_obj2, distance, R_obj2)\n",
    "\n",
    "x = lamb_arr\n",
    "y = flux_1 + flux_2\n",
    "plt.loglog(x, y, label='Combined') \n",
    "\n",
    "x = lamb_arr\n",
    "y = flux_1\n",
    "plt.loglog(x, y, label='M5 Dwarf')\n",
    "\n",
    "x = lamb_arr\n",
    "y = flux_2\n",
    "plt.loglog(x, y, label='White Drawf')\n",
    "\n",
    "plt.xlabel('Wavelength (microns)') \n",
    "plt.ylabel('Flux Density(erg/s/cm^3)')\n",
    "plt.title('Blackbody Spectrum of M5 and a White Dwarf')\n",
    "plt.ylim(10**(-10), 10**(-1))\n",
    "plt.legend(loc='best')\n",
    "plt.show() \n"
   ]
  },
  {
   "cell_type": "code",
   "execution_count": 422,
   "metadata": {},
   "outputs": [
    {
     "data": {
      "image/png": "[encoded data removed]",
      "text/plain": [
       "<Figure size 432x288 with 1 Axes>"
      ]
     },
     "metadata": {
      "needs_background": "light"
     },
     "output_type": "display_data"
    }
   ],
   "source": [
    "x = lamb_arr\n",
    "y = flux_1 + flux_2\n",
    "plt.loglog(x, y, label='Combined') \n",
    "\n",
    "plt.xlabel('Wavelength (microns)') \n",
    "plt.ylabel('Flux Density(erg/s/cm^3)')\n",
    "plt.title('Blackbody Spectrum of M5 and a White Dwarf')\n",
    "plt.ylim(10**(-10), 10**(-1))\n",
    "plt.legend(loc='best')\n",
    "plt.show()"
   ]
  },
  {
   "cell_type": "markdown",
   "metadata": {},
   "source": [
    "From the figure above, the combined spectra does signify a companion. The combined spectra is not smooth (has a bump), which suggets both objects are contributing. However, this is a very small bump, and would be hard to identify."
   ]
  },
  {
   "cell_type": "code",
   "execution_count": 423,
   "metadata": {},
   "outputs": [],
   "source": [
    "#Arcturus with 1,000,000 K Neutron Star"
   ]
  },
  {
   "cell_type": "code",
   "execution_count": 424,
   "metadata": {},
   "outputs": [
    {
     "data": {
      "image/png": "[encoded data removed]",
      "text/plain": [
       "<Figure size 432x288 with 1 Axes>"
      ]
     },
     "metadata": {
      "needs_background": "light"
     },
     "output_type": "display_data"
    }
   ],
   "source": [
    "#plots the blackbody radiation for Arcturus with 1,000,000 K Neutron Starcompanion, individually and combined\n",
    "T_arc = 4286*u.K        #Ramirez and Prieto 2011 https://arxiv.org/pdf/1109.4425\n",
    "T_ns = 1_000_000*u.K    #given\n",
    "R_arc = 25.4 * R_sun    #Ramirez and Prieto 2011 https://arxiv.org/pdf/1109.4425\n",
    "R_ns = 10 *u.km        #Known fact/ learned from previous classes\n",
    "\n",
    "T_obj1 = T_arc\n",
    "T_obj2 = T_ns\n",
    "\n",
    "distance = 10*u.pc\n",
    "\n",
    "R_obj1 = R_arc\n",
    "R_obj2 = R_ns\n",
    "\n",
    "lambda_log_sampling= np.logspace(-1, 2, num=1000, base=10) * u.micron\n",
    "lamb_arr = lambda_log_sampling\n",
    "\n",
    "flux_1 = flux_density(lamb_arr,T_obj1, distance, R_obj1)\n",
    "flux_2 = flux_density(lamb_arr,T_obj2, distance, R_obj2)\n",
    "\n",
    "x = lamb_arr\n",
    "y = flux_1 + flux_2\n",
    "plt.loglog(x, y, label='Combined') \n",
    "\n",
    "x = lamb_arr\n",
    "y = flux_1\n",
    "plt.loglog(x, y, label='Arcturus')\n",
    "\n",
    "x = lamb_arr\n",
    "y = flux_2\n",
    "plt.loglog(x, y, label='Neurtron Star')\n",
    "\n",
    "plt.xlabel('Wavelength (microns)') \n",
    "plt.ylabel('Flux Density(erg/s/cm^3)')\n",
    "plt.title('Blackbody Spectrum of Arcturus and a NS')\n",
    "plt.ylim(10**(-12), 10**1)\n",
    "plt.legend(loc='best')\n",
    "plt.show() \n"
   ]
  },
  {
   "cell_type": "code",
   "execution_count": 425,
   "metadata": {},
   "outputs": [
    {
     "data": {
      "image/png": "[encoded data removed]",
      "text/plain": [
       "<Figure size 432x288 with 1 Axes>"
      ]
     },
     "metadata": {
      "needs_background": "light"
     },
     "output_type": "display_data"
    }
   ],
   "source": [
    "x = lamb_arr\n",
    "y = flux_1 + flux_2\n",
    "plt.loglog(x, y, label='Combined') \n",
    "\n",
    "plt.xlabel('Wavelength (microns)') \n",
    "plt.ylabel('Flux Density(erg/s/cm^3)')\n",
    "plt.title('Blackbody Spectrum of Arcturus and a NS')\n",
    "plt.ylim(10**(-12), 10**1)\n",
    "plt.legend(loc='best')\n",
    "plt.show() "
   ]
  },
  {
   "cell_type": "markdown",
   "metadata": {},
   "source": [
    "In the figure above, the combined spectra mostly follows the orange line (Arcturus), but on the far left, you can see an up turn between the orange and green. the combined spectra then follows the green line to the left. If the graph/wavelength extended more to the left, you should be able to see the contributions from both Arcturus and the neutron star, but could also be hard to identify."
   ]
  },
  {
   "cell_type": "markdown",
   "metadata": {},
   "source": [
    "# Problem 3 c"
   ]
  },
  {
   "cell_type": "markdown",
   "metadata": {},
   "source": [
    "See OverLeaf PDF"
   ]
  },
  {
   "cell_type": "markdown",
   "metadata": {},
   "source": [
    "# Problem 3 d"
   ]
  },
  {
   "cell_type": "code",
   "execution_count": 426,
   "metadata": {},
   "outputs": [],
   "source": [
    "# define given values with NO units (for integration)\n",
    "T_eff = 3000 \n",
    "R_star = ((5*R_sun).cgs).value\n",
    "R_c = ((100*u.au).cgs).value\n",
    "dist = 1"
   ]
  },
  {
   "cell_type": "code",
   "execution_count": 427,
   "metadata": {},
   "outputs": [],
   "source": [
    "# calcualtes and returns the intensity\n",
    "#v: frequency\n",
    "# T: effective temperature (given)\n",
    "def B_lambda(v, T):\n",
    "    intensity = ((2*(h.cgs).value*v**3)/(c.cgs).value**2)/((np.e**((h.cgs).value*v/(((k_B.cgs).value*T)))-1))\n",
    "    return intensity\n",
    "\n",
    "#calcualtes and returns the flux density\n",
    "#v: frequency\n",
    "def flux_density(v):\n",
    "    T_obj = 3000 \n",
    "    intensity = B_lambda(v,T_obj)\n",
    "    flux_density = intensity\n",
    "    return flux_density"
   ]
  },
  {
   "cell_type": "code",
   "execution_count": 428,
   "metadata": {},
   "outputs": [],
   "source": [
    "#defines the integrand from equation 3 of the homework(without the integral symbol) - needed to integrate\n",
    "#v: frequency\n",
    "def intgd(v): \n",
    "    R_star = ((5*R_sun).cgs).value\n",
    "    R_c = ((100*u.au).cgs).value \n",
    "    x = flux_density(v)*((R_star/R_c)**2)*(1-np.e**(-(v/3e14)))\n",
    "    return x"
   ]
  },
  {
   "cell_type": "code",
   "execution_count": 429,
   "metadata": {},
   "outputs": [
    {
     "name": "stderr",
     "output_type": "stream",
     "text": [
      "<ipython-input-427-70de6d0b1cab>:5: RuntimeWarning: overflow encountered in double_scalars\n",
      "  intensity = ((2*(h.cgs).value*v**3)/(c.cgs).value**2)/((np.e**((h.cgs).value*v/(((k_B.cgs).value*T)))-1))\n"
     ]
    },
    {
     "data": {
      "text/plain": [
       "(40.56965817123023, 1.2755960320139093e-09)"
      ]
     },
     "execution_count": 429,
     "metadata": {},
     "output_type": "execute_result"
    }
   ],
   "source": [
    "#integrates the integral and calcualtes equation 3 form the homework\n",
    "#finds numerical value of F_abs\n",
    "F_abs = integrate.quad(intgd,0,1e18)  #using np.inf created an error, so I chose a large number instead\n",
    "F_abs"
   ]
  },
  {
   "cell_type": "code",
   "execution_count": 430,
   "metadata": {},
   "outputs": [
    {
     "name": "stdout",
     "output_type": "stream",
     "text": [
      "Answer\n",
      "Temperature of the cloud: 24.0 K\n"
     ]
    }
   ],
   "source": [
    "#calculate the temperature of the cloud\n",
    "T_c = (F_abs[0]/(2*((sigma_sb.cgs).value)))**(1/4)\n",
    "print('Answer')\n",
    "print(\"Temperature of the cloud:\",T_c.round(),\"K\")"
   ]
  },
  {
   "cell_type": "code",
   "execution_count": null,
   "metadata": {},
   "outputs": [],
   "source": []
  },
  {
   "cell_type": "code",
   "execution_count": null,
   "metadata": {},
   "outputs": [],
   "source": []
  },
  {
   "cell_type": "markdown",
   "metadata": {},
   "source": [
    "# 3 e"
   ]
  },
  {
   "cell_type": "code",
   "execution_count": 431,
   "metadata": {},
   "outputs": [],
   "source": [
    "#define values\n",
    "T_eff = 3000*u.K\n",
    "T_c = 24*u.K\n",
    "R_star = ((5*R_sun).cgs)\n",
    "R_c = ((100*u.au).cgs)\n",
    "dist = 10*u.pc\n",
    "#t_v= v/(1*u.micron)"
   ]
  },
  {
   "cell_type": "code",
   "execution_count": null,
   "metadata": {},
   "outputs": [],
   "source": []
  },
  {
   "cell_type": "code",
   "execution_count": null,
   "metadata": {},
   "outputs": [],
   "source": []
  },
  {
   "cell_type": "code",
   "execution_count": 432,
   "metadata": {},
   "outputs": [],
   "source": [
    "#calculates and returns intensity\n",
    "#lamb: array of wavelengths\n",
    "#T: temperature of object\n",
    "def B_lambda(lamb, T):\n",
    "    intensity = ((2*h*c**2)/lamb**5)/((np.e**(h*c/((lamb*k_B*T)))-1))\n",
    "    return intensity"
   ]
  },
  {
   "cell_type": "code",
   "execution_count": 433,
   "metadata": {},
   "outputs": [],
   "source": [
    "# creates array of wavelengths in log space\n",
    "lamb_arr= np.logspace(-1, 2, num=3000, base=10) * u.micron\n"
   ]
  },
  {
   "cell_type": "code",
   "execution_count": 434,
   "metadata": {},
   "outputs": [],
   "source": [
    "#calculates and returns the flux density\n",
    "#lamb_arr: array of wavelengths in log space\n",
    "#T_obj: Temperature of object\n",
    "#distance: observation distance\n",
    "#R_obj: radius of object\n",
    "def flux_density(lamb_arr,T_obj, distance, R_obj):\n",
    "    intensity = B_lambda(lambda_log_sampling,T_obj)\n",
    "    flux_density = intensity *(R_obj/distance)**2\n",
    "    return flux_density.to(u.erg/u.s/u.cm**3)"
   ]
  },
  {
   "cell_type": "code",
   "execution_count": 435,
   "metadata": {},
   "outputs": [
    {
     "data": {
      "text/latex": [
       "$[2.2468896 \\times 10^{-17},~3.0205891 \\times 10^{-17},~4.0514693 \\times 10^{-17},~\\dots,~3.2550687 \\times 10^{-10},~3.1668063 \\times 10^{-10},~3.0809335 \\times 10^{-10}] \\; \\mathrm{\\frac{erg}{s\\,cm^{3}}}$"
      ],
      "text/plain": [
       "<Quantity [2.24688961e-17, 3.02058906e-17, 4.05146927e-17, 5.42189703e-17,\n",
       "           7.23959980e-17, 9.64515373e-17, 1.28215853e-16, 1.70066549e-16,\n",
       "           2.25085367e-16, 2.97257863e-16, 3.91727138e-16, 5.15115521e-16,\n",
       "           6.75931495e-16, 8.85083331e-16, 1.15652596e-15, 1.50807393e-15,\n",
       "           1.96242074e-15, 2.54841442e-15, 3.30265006e-15, 4.27145412e-15,\n",
       "           5.51335138e-15, 7.10212568e-15, 9.13060947e-15, 1.17153657e-14,\n",
       "           1.50024605e-14, 1.91745663e-14, 2.44596836e-14, 3.11418293e-14,\n",
       "           3.95741083e-14, 5.01946678e-14, 6.35461308e-14, 8.02992220e-14,\n",
       "           1.01281433e-13, 1.27511733e-13, 1.60242522e-13, 2.01010235e-13,\n",
       "           2.51696264e-13, 3.14600170e-13, 3.92527487e-13, 4.88894830e-13,\n",
       "           6.07855489e-13, 7.54449208e-13, 9.34780497e-13, 1.15623049e-12,\n",
       "           1.42770824e-12, 1.75994818e-12, 2.16586174e-12, 2.66095197e-12,\n",
       "           3.26380193e-12, 3.99664858e-12, 4.88605628e-12, 5.96370554e-12,\n",
       "           7.26731524e-12, 8.84171904e-12, 1.07401195e-11, 1.30255470e-11,\n",
       "           1.57725531e-11, 1.90691745e-11, 2.30192046e-11, 2.77448182e-11,\n",
       "           3.33895989e-11, 4.01220237e-11, 4.81394696e-11, 5.76728104e-11,\n",
       "           6.89916835e-11, 8.24105138e-11, 9.82953925e-11, 1.17071919e-10,\n",
       "           1.39234129e-10, 1.65354634e-10, 1.96096134e-10, 2.32224450e-10,\n",
       "           2.74623270e-10, 3.24310796e-10, 3.82458510e-10, 4.50412303e-10,\n",
       "           5.29716217e-10, 6.22139084e-10, 7.29704380e-10, 8.54723609e-10,\n",
       "           9.99833604e-10, 1.16803811e-09, 1.36275411e-09, 1.58786329e-09,\n",
       "           1.84776923e-09, 2.14746074e-09, 2.49258199e-09, 2.88951002e-09,\n",
       "           3.34544023e-09, 3.86848060e-09, 4.46775535e-09, 5.15351879e-09,\n",
       "           5.93728024e-09, 6.83194080e-09, 7.85194292e-09, 9.01343382e-09,\n",
       "           1.03344436e-08, 1.18350791e-08, 1.35377349e-08, 1.54673221e-08,\n",
       "           1.76515165e-08, 2.01210271e-08, 2.29098863e-08, 2.60557635e-08,\n",
       "           2.96003019e-08, 3.35894826e-08, 3.80740141e-08, 4.31097513e-08,\n",
       "           4.87581440e-08, 5.50867162e-08, 6.21695788e-08, 7.00879761e-08,\n",
       "           7.89308669e-08, 8.87955437e-08, 9.97882892e-08, 1.12025072e-07,\n",
       "           1.25632285e-07, 1.40747520e-07, 1.57520394e-07, 1.76113411e-07,\n",
       "           1.96702873e-07, 2.19479835e-07, 2.44651110e-07, 2.72440313e-07,\n",
       "           3.03088959e-07, 3.36857608e-07, 3.74027052e-07, 4.14899554e-07,\n",
       "           4.59800135e-07, 5.09077900e-07, 5.63107419e-07, 6.22290145e-07,\n",
       "           6.87055876e-07, 7.57864263e-07, 8.35206351e-07, 9.19606163e-07,\n",
       "           1.01162232e-06, 1.11184966e-06, 1.22092098e-06, 1.33950866e-06,\n",
       "           1.46832644e-06, 1.60813114e-06, 1.75972441e-06, 1.92395451e-06,\n",
       "           2.10171805e-06, 2.29396177e-06, 2.50168429e-06, 2.72593782e-06,\n",
       "           2.96782993e-06, 3.22852520e-06, 3.50924687e-06, 3.81127847e-06,\n",
       "           4.13596537e-06, 4.48471629e-06, 4.85900472e-06, 5.26037030e-06,\n",
       "           5.69042007e-06, 6.15082971e-06, 6.64334455e-06, 7.16978061e-06,\n",
       "           7.73202543e-06, 8.33203880e-06, 8.97185335e-06, 9.65357501e-06,\n",
       "           1.03793833e-05, 1.11515315e-05, 1.19723465e-05, 1.28442286e-05,\n",
       "           1.37696514e-05, 1.47511607e-05, 1.57913740e-05, 1.68929796e-05,\n",
       "           1.80587350e-05, 1.92914657e-05, 2.05940634e-05, 2.19694844e-05,\n",
       "           2.34207470e-05, 2.49509292e-05, 2.65631663e-05, 2.82606478e-05,\n",
       "           3.00466144e-05, 3.19243545e-05, 3.38972006e-05, 3.59685252e-05,\n",
       "           3.81417372e-05, 4.04202769e-05, 4.28076117e-05, 4.53072313e-05,\n",
       "           4.79226421e-05, 5.06573626e-05, 5.35149170e-05, 5.64988304e-05,\n",
       "           5.96126218e-05, 6.28597985e-05, 6.62438496e-05, 6.97682397e-05,\n",
       "           7.34364015e-05, 7.72517296e-05, 8.12175731e-05, 8.53372288e-05,\n",
       "           8.96139336e-05, 9.40508571e-05, 9.86510947e-05, 1.03417660e-04,\n",
       "           1.08353475e-04, 1.13461368e-04, 1.18744060e-04, 1.24204161e-04,\n",
       "           1.29844160e-04, 1.35666420e-04, 1.41673167e-04, 1.47866488e-04,\n",
       "           1.54248319e-04, 1.60820439e-04, 1.67584464e-04, 1.74541841e-04,\n",
       "           1.81693839e-04, 1.89041542e-04, 1.96585849e-04, 2.04327458e-04,\n",
       "           2.12266872e-04, 2.20404381e-04, 2.28740068e-04, 2.37273798e-04,\n",
       "           2.46005215e-04, 2.54933736e-04, 2.64058551e-04, 2.73378618e-04,\n",
       "           2.82892658e-04, 2.92599154e-04, 3.02496348e-04, 3.12582241e-04,\n",
       "           3.22854588e-04, 3.33310903e-04, 3.43948450e-04, 3.54764249e-04,\n",
       "           3.65755077e-04, 3.76917463e-04, 3.88247695e-04, 3.99741818e-04,\n",
       "           4.11395638e-04, 4.23204722e-04, 4.35164406e-04, 4.47269794e-04,\n",
       "           4.59515762e-04, 4.71896963e-04, 4.84407836e-04, 4.97042603e-04,\n",
       "           5.09795280e-04, 5.22659683e-04, 5.35629432e-04, 5.48697959e-04,\n",
       "           5.61858514e-04, 5.75104174e-04, 5.88427851e-04, 6.01822296e-04,\n",
       "           6.15280112e-04, 6.28793762e-04, 6.42355575e-04, 6.55957757e-04,\n",
       "           6.69592401e-04, 6.83251496e-04, 6.96926936e-04, 7.10610531e-04,\n",
       "           7.24294016e-04, 7.37969063e-04, 7.51627288e-04, 7.65260266e-04,\n",
       "           7.78859538e-04, 7.92416622e-04, 8.05923025e-04, 8.19370252e-04,\n",
       "           8.32749818e-04, 8.46053257e-04, 8.59272132e-04, 8.72398050e-04,\n",
       "           8.85422666e-04, 8.98337696e-04, 9.11134928e-04, 9.23806230e-04,\n",
       "           9.36343561e-04, 9.48738981e-04, 9.60984658e-04, 9.73072879e-04,\n",
       "           9.84996059e-04, 9.96746748e-04, 1.00831764e-03, 1.01970159e-03,\n",
       "           1.03089160e-03, 1.04188084e-03, 1.05266267e-03, 1.06323062e-03,\n",
       "           1.07357842e-03, 1.08369997e-03, 1.09358940e-03, 1.10324103e-03,\n",
       "           1.11264940e-03, 1.12180926e-03, 1.13071557e-03, 1.13936355e-03,\n",
       "           1.14774861e-03, 1.15586642e-03, 1.16371286e-03, 1.17128408e-03,\n",
       "           1.17857644e-03, 1.18558655e-03, 1.19231129e-03, 1.19874774e-03,\n",
       "           1.20489326e-03, 1.21074544e-03, 1.21630213e-03, 1.22156141e-03,\n",
       "           1.22652162e-03, 1.23118133e-03, 1.23553938e-03, 1.23959481e-03,\n",
       "           1.24334695e-03, 1.24679532e-03, 1.24993972e-03, 1.25278015e-03,\n",
       "           1.25531686e-03, 1.25755031e-03, 1.25948121e-03, 1.26111046e-03,\n",
       "           1.26243921e-03, 1.26346878e-03, 1.26420073e-03, 1.26463681e-03,\n",
       "           1.26477899e-03, 1.26462939e-03, 1.26419037e-03, 1.26346443e-03,\n",
       "           1.26245427e-03, 1.26116276e-03, 1.25959295e-03, 1.25774802e-03,\n",
       "           1.25563133e-03, 1.25324638e-03, 1.25059683e-03, 1.24768645e-03,\n",
       "           1.24451917e-03, 1.24109903e-03, 1.23743019e-03, 1.23351694e-03,\n",
       "           1.22936365e-03, 1.22497481e-03, 1.22035501e-03, 1.21550892e-03,\n",
       "           1.21044130e-03, 1.20515696e-03, 1.19966083e-03, 1.19395787e-03,\n",
       "           1.18805311e-03, 1.18195162e-03, 1.17565855e-03, 1.16917907e-03,\n",
       "           1.16251838e-03, 1.15568173e-03, 1.14867438e-03, 1.14150163e-03,\n",
       "           1.13416877e-03, 1.12668112e-03, 1.11904401e-03, 1.11126274e-03,\n",
       "           1.10334264e-03, 1.09528902e-03, 1.08710716e-03, 1.07880236e-03,\n",
       "           1.07037985e-03, 1.06184488e-03, 1.05320264e-03, 1.04445830e-03,\n",
       "           1.03561698e-03, 1.02668379e-03, 1.01766376e-03, 1.00856190e-03,\n",
       "           9.99383138e-04, 9.90132385e-04, 9.80814475e-04, 9.71434188e-04,\n",
       "           9.61996243e-04, 9.52505293e-04, 9.42965928e-04, 9.33382669e-04,\n",
       "           9.23759965e-04, 9.14102197e-04, 9.04413667e-04, 8.94698607e-04,\n",
       "           8.84961168e-04, 8.75205425e-04, 8.65435372e-04, 8.55654925e-04,\n",
       "           8.45867916e-04, 8.36078095e-04, 8.26289128e-04, 8.16504600e-04,\n",
       "           8.06728008e-04, 7.96962765e-04, 7.87212200e-04, 7.77479555e-04,\n",
       "           7.67767987e-04, 7.58080565e-04, 7.48420274e-04, 7.38790014e-04,\n",
       "           7.29192596e-04, 7.19630749e-04, 7.10107115e-04, 7.00624250e-04,\n",
       "           6.91184630e-04, 6.81790642e-04, 6.72444593e-04, 6.63148708e-04,\n",
       "           6.53905127e-04, 6.44715911e-04, 6.35583042e-04, 6.26508420e-04,\n",
       "           6.17493868e-04, 6.08541131e-04, 5.99651877e-04, 5.90827700e-04,\n",
       "           5.82070118e-04, 5.73380576e-04, 5.64760448e-04, 5.56211035e-04,\n",
       "           5.47733570e-04, 5.39329216e-04, 5.30999068e-04, 5.22744158e-04,\n",
       "           5.14565450e-04, 5.06463845e-04, 4.98440182e-04, 4.90495240e-04,\n",
       "           4.82629736e-04, 4.74844331e-04, 4.67139627e-04, 4.59516172e-04,\n",
       "           4.51974458e-04, 4.44514926e-04, 4.37137963e-04, 4.29843907e-04,\n",
       "           4.22633046e-04, 4.15505623e-04, 4.08461832e-04, 4.01501821e-04,\n",
       "           3.94625697e-04, 3.87833524e-04, 3.81125324e-04, 3.74501079e-04,\n",
       "           3.67960732e-04, 3.61504192e-04, 3.55131326e-04, 3.48841972e-04,\n",
       "           3.42635931e-04, 3.36512972e-04, 3.30472834e-04, 3.24515223e-04,\n",
       "           3.18639820e-04, 3.12846274e-04, 3.07134211e-04, 3.01503229e-04,\n",
       "           2.95952902e-04, 2.90482780e-04, 2.85092393e-04, 2.79781245e-04,\n",
       "           2.74548824e-04, 2.69394595e-04, 2.64318008e-04, 2.59318492e-04,\n",
       "           2.54395460e-04, 2.49548312e-04, 2.44776430e-04, 2.40079183e-04,\n",
       "           2.35455927e-04, 2.30906004e-04, 2.26428747e-04, 2.22023476e-04,\n",
       "           2.17689502e-04, 2.13426126e-04, 2.09232641e-04, 2.05108331e-04,\n",
       "           2.01052474e-04, 1.97064339e-04, 1.93143193e-04, 1.89288294e-04,\n",
       "           1.85498896e-04, 1.81774250e-04, 1.78113602e-04, 1.74516196e-04,\n",
       "           1.70981272e-04, 1.67508070e-04, 1.64095825e-04, 1.60743775e-04,\n",
       "           1.57451154e-04, 1.54217197e-04, 1.51041140e-04, 1.47922218e-04,\n",
       "           1.44859668e-04, 1.41852729e-04, 1.38900639e-04, 1.36002642e-04,\n",
       "           1.33157980e-04, 1.30365901e-04, 1.27625656e-04, 1.24936497e-04,\n",
       "           1.22297680e-04, 1.19708468e-04, 1.17168124e-04, 1.14675918e-04,\n",
       "           1.12231123e-04, 1.09833018e-04, 1.07480887e-04, 1.05174017e-04,\n",
       "           1.02911702e-04, 1.00693243e-04, 9.85179446e-05, 9.63851175e-05,\n",
       "           9.42940788e-05, 9.22441517e-05, 9.02346657e-05, 8.82649564e-05,\n",
       "           8.63343661e-05, 8.44422437e-05, 8.25879445e-05, 8.07708309e-05,\n",
       "           7.89902718e-05, 7.72456432e-05, 7.55363281e-05, 7.38617162e-05,\n",
       "           7.22212047e-05, 7.06141976e-05, 6.90401061e-05, 6.74983486e-05,\n",
       "           6.59883508e-05, 6.45095455e-05, 6.30613728e-05, 6.16432799e-05,\n",
       "           6.02547215e-05, 5.88951593e-05, 5.75640625e-05, 5.62609074e-05,\n",
       "           5.49851775e-05, 5.37363636e-05, 5.25139636e-05, 5.13174828e-05,\n",
       "           5.01464333e-05, 4.90003347e-05, 4.78787134e-05, 4.67811030e-05,\n",
       "           4.57070440e-05, 4.46560840e-05, 4.36277775e-05, 4.26216859e-05,\n",
       "           4.16373773e-05, 4.06744269e-05, 3.97324162e-05, 3.88109337e-05,\n",
       "           3.79095746e-05, 3.70279404e-05, 3.61656394e-05, 3.53222860e-05,\n",
       "           3.44975014e-05, 3.36909129e-05, 3.29021540e-05, 3.21308648e-05,\n",
       "           3.13766910e-05, 3.06392848e-05, 2.99183043e-05, 2.92134134e-05,\n",
       "           2.85242821e-05, 2.78505859e-05, 2.71920065e-05, 2.65482308e-05,\n",
       "           2.59189516e-05, 2.53038671e-05, 2.47026810e-05, 2.41151023e-05,\n",
       "           2.35408455e-05, 2.29796303e-05, 2.24311813e-05, 2.18952286e-05,\n",
       "           2.13715071e-05, 2.08597568e-05, 2.03597224e-05, 1.98711536e-05,\n",
       "           1.93938048e-05, 1.89274350e-05, 1.84718080e-05, 1.80266920e-05,\n",
       "           1.75918596e-05, 1.71670881e-05, 1.67521588e-05, 1.63468575e-05,\n",
       "           1.59509742e-05, 1.55643028e-05, 1.51866415e-05, 1.48177925e-05,\n",
       "           1.44575619e-05, 1.41057595e-05, 1.37621992e-05, 1.34266986e-05,\n",
       "           1.30990787e-05, 1.27791644e-05, 1.24667841e-05, 1.21617698e-05,\n",
       "           1.18639566e-05, 1.15731833e-05, 1.12892920e-05, 1.10121279e-05,\n",
       "           1.07415395e-05, 1.04773785e-05, 1.02194995e-05, 9.96776037e-06,\n",
       "           9.72202184e-06, 9.48214755e-06, 9.24800406e-06, 9.01946073e-06,\n",
       "           8.79638968e-06, 8.57866577e-06, 8.36616649e-06, 8.15877198e-06,\n",
       "           7.95636493e-06, 7.75883054e-06, 7.56605649e-06, 7.37793288e-06,\n",
       "           7.19435219e-06, 7.01520921e-06, 6.84040104e-06, 6.66982700e-06,\n",
       "           6.50338862e-06, 6.34098958e-06, 6.18253565e-06, 6.02793471e-06,\n",
       "           5.87709663e-06, 5.72993329e-06, 5.58635850e-06, 5.44628800e-06,\n",
       "           5.30963938e-06, 5.17633208e-06, 5.04628731e-06, 4.91942807e-06,\n",
       "           4.79567905e-06, 4.67496667e-06, 4.55721895e-06, 4.44236558e-06,\n",
       "           4.33033779e-06, 4.22106840e-06, 4.11449173e-06, 4.01054358e-06,\n",
       "           3.90916124e-06, 3.81028338e-06, 3.71385011e-06, 3.61980288e-06,\n",
       "           3.52808448e-06, 3.43863904e-06, 3.35141192e-06, 3.26634978e-06,\n",
       "           3.18340048e-06, 3.10251310e-06, 3.02363788e-06, 2.94672622e-06,\n",
       "           2.87173063e-06, 2.79860474e-06, 2.72730325e-06, 2.65778191e-06,\n",
       "           2.58999751e-06, 2.52390783e-06, 2.45947164e-06, 2.39664869e-06,\n",
       "           2.33539967e-06, 2.27568617e-06, 2.21747071e-06, 2.16071666e-06,\n",
       "           2.10538829e-06, 2.05145068e-06, 1.99886975e-06, 1.94761223e-06,\n",
       "           1.89764562e-06, 1.84893820e-06, 1.80145901e-06, 1.75517783e-06,\n",
       "           1.71006512e-06, 1.66609209e-06, 1.62323061e-06, 1.58145324e-06,\n",
       "           1.54073317e-06, 1.50104425e-06, 1.46236096e-06, 1.42465839e-06,\n",
       "           1.38791220e-06, 1.35209867e-06, 1.31719465e-06, 1.28317752e-06,\n",
       "           1.25002523e-06, 1.21771625e-06, 1.18622958e-06, 1.15554471e-06,\n",
       "           1.12564165e-06, 1.09650088e-06, 1.06810337e-06, 1.04043051e-06,\n",
       "           1.01346420e-06, 9.87186740e-07, 9.61580874e-07, 9.36629768e-07,\n",
       "           9.12316996e-07, 8.88626536e-07, 8.65542755e-07, 8.43050404e-07,\n",
       "           8.21134609e-07, 7.99780857e-07, 7.78974995e-07, 7.58703216e-07,\n",
       "           7.38952052e-07, 7.19708366e-07, 7.00959348e-07, 6.82692498e-07,\n",
       "           6.64895630e-07, 6.47556856e-07, 6.30664582e-07, 6.14207501e-07,\n",
       "           5.98174585e-07, 5.82555081e-07, 5.67338502e-07, 5.52514620e-07,\n",
       "           5.38073462e-07, 5.24005302e-07, 5.10300657e-07, 4.96950280e-07,\n",
       "           4.83945153e-07, 4.71276484e-07, 4.58935700e-07, 4.46914441e-07,\n",
       "           4.35204557e-07, 4.23798101e-07, 4.12687327e-07, 4.01864679e-07,\n",
       "           3.91322793e-07, 3.81054490e-07, 3.71052769e-07, 3.61310805e-07,\n",
       "           3.51821947e-07, 3.42579709e-07, 3.33577768e-07, 3.24809961e-07,\n",
       "           3.16270280e-07, 3.07952867e-07, 2.99852015e-07, 2.91962158e-07,\n",
       "           2.84277872e-07, 2.76793869e-07, 2.69504996e-07, 2.62406229e-07,\n",
       "           2.55492671e-07, 2.48759552e-07, 2.42202219e-07, 2.35816140e-07,\n",
       "           2.29596895e-07, 2.23540178e-07, 2.17641794e-07, 2.11897651e-07,\n",
       "           2.06303763e-07, 2.00856246e-07, 1.95551314e-07, 1.90385278e-07,\n",
       "           1.85354541e-07, 1.80455601e-07, 1.75685042e-07, 1.71039539e-07,\n",
       "           1.66515848e-07, 1.62110810e-07, 1.57821346e-07, 1.53644457e-07,\n",
       "           1.49577220e-07, 1.45616785e-07, 1.41760379e-07, 1.38005296e-07,\n",
       "           1.34348902e-07, 1.30788630e-07, 1.27321977e-07, 1.23946508e-07,\n",
       "           1.20659847e-07, 1.17459681e-07, 1.14343756e-07, 1.11309876e-07,\n",
       "           1.08355901e-07, 1.05479747e-07, 1.02679384e-07, 9.99528316e-08,\n",
       "           9.72981640e-08, 9.47135030e-08, 9.21970194e-08, 8.97469312e-08,\n",
       "           8.73615025e-08, 8.50390420e-08, 8.27779024e-08, 8.05764788e-08,\n",
       "           7.84332080e-08, 7.63465671e-08, 7.43150726e-08, 7.23372796e-08,\n",
       "           7.04117805e-08, 6.85372042e-08, 6.67122153e-08, 6.49355128e-08,\n",
       "           6.32058296e-08, 6.15219315e-08, 5.98826164e-08, 5.82867133e-08,\n",
       "           5.67330817e-08, 5.52206108e-08, 5.37482186e-08, 5.23148513e-08,\n",
       "           5.09194825e-08, 4.95611127e-08, 4.82387681e-08, 4.69515006e-08,\n",
       "           4.56983865e-08, 4.44785265e-08, 4.32910446e-08, 4.21350876e-08,\n",
       "           4.10098247e-08, 3.99144466e-08, 3.88481654e-08, 3.78102136e-08,\n",
       "           3.67998438e-08, 3.58163282e-08, 3.48589578e-08, 3.39270426e-08,\n",
       "           3.30199101e-08, 3.21369059e-08, 3.12773923e-08, 3.04407488e-08,\n",
       "           2.96263706e-08, 2.88336692e-08, 2.80620714e-08, 2.73110188e-08,\n",
       "           2.65799679e-08, 2.58683895e-08, 2.51757681e-08, 2.45016018e-08,\n",
       "           2.38454020e-08, 2.32066927e-08, 2.25850106e-08, 2.19799046e-08,\n",
       "           2.13909353e-08, 2.08176749e-08, 2.02597070e-08, 1.97166259e-08,\n",
       "           1.91880369e-08, 1.86735553e-08, 1.81728070e-08, 1.76854273e-08,\n",
       "           1.72110613e-08, 1.67493637e-08, 1.62999978e-08, 1.58626361e-08,\n",
       "           1.54369598e-08, 1.50226582e-08, 1.46194292e-08, 1.42269783e-08,\n",
       "           1.38450190e-08, 1.34732722e-08, 1.31114665e-08, 1.27593372e-08,\n",
       "           1.24166270e-08, 1.20830852e-08, 1.17584677e-08, 1.14425370e-08,\n",
       "           1.11350617e-08, 1.08358167e-08, 1.05445829e-08, 1.02611466e-08,\n",
       "           9.98530029e-09, 9.71684159e-09, 9.45557360e-09, 9.20130463e-09,\n",
       "           8.95384809e-09, 8.71302229e-09, 8.47865038e-09, 8.25056021e-09,\n",
       "           8.02858418e-09, 7.81255913e-09, 7.60232624e-09, 7.39773091e-09,\n",
       "           7.19862262e-09, 7.00485487e-09, 6.81628504e-09, 6.63277429e-09,\n",
       "           6.45418749e-09, 6.28039307e-09, 6.11126297e-09, 5.94667254e-09,\n",
       "           5.78650045e-09, 5.63062856e-09, 5.47894191e-09, 5.33132859e-09,\n",
       "           5.18767964e-09, 5.04788903e-09, 4.91185354e-09, 4.77947270e-09,\n",
       "           4.65064870e-09, 4.52528637e-09, 4.40329303e-09, 4.28457850e-09,\n",
       "           4.16905499e-09, 4.05663705e-09, 3.94724150e-09, 3.84078740e-09,\n",
       "           3.73719595e-09, 3.63639045e-09, 3.53829625e-09, 3.44284069e-09,\n",
       "           3.34995304e-09, 3.25956448e-09, 3.17160801e-09, 3.08601841e-09,\n",
       "           3.00273222e-09, 2.92168767e-09, 2.84282462e-09, 2.76608455e-09,\n",
       "           2.69141052e-09, 2.61874707e-09, 2.54804027e-09, 2.47923760e-09,\n",
       "           2.41228795e-09, 2.34714157e-09, 2.28375005e-09, 2.22206628e-09,\n",
       "           2.16204439e-09, 2.10363976e-09, 2.04680894e-09, 1.99150965e-09,\n",
       "           1.93770076e-09, 1.88534222e-09, 1.83439505e-09, 1.78482133e-09,\n",
       "           1.73658413e-09, 1.68964755e-09, 1.64397660e-09, 1.59953728e-09,\n",
       "           1.55629645e-09, 1.51422189e-09, 1.47328223e-09, 1.43344696e-09,\n",
       "           1.39468636e-09, 1.35697152e-09, 1.32027431e-09, 1.28456735e-09,\n",
       "           1.24982399e-09, 1.21601829e-09, 1.18312502e-09, 1.15111962e-09,\n",
       "           1.11997818e-09, 1.08967745e-09, 1.06019480e-09, 1.03150819e-09,\n",
       "           1.00359618e-09, 9.76437912e-10, 9.50013088e-10, 9.24301948e-10,\n",
       "           8.99285265e-10, 8.74944330e-10, 8.51260935e-10, 8.28217361e-10,\n",
       "           8.05796366e-10, 7.83981170e-10, 7.62755445e-10, 7.42103300e-10,\n",
       "           7.22009274e-10, 7.02458318e-10, 6.83435791e-10, 6.64927442e-10,\n",
       "           6.46919407e-10, 6.29398191e-10, 6.12350665e-10, 5.95764051e-10,\n",
       "           5.79625916e-10, 5.63924161e-10, 5.48647012e-10, 5.33783012e-10,\n",
       "           5.19321013e-10, 5.05250166e-10, 4.91559914e-10, 4.78239986e-10,\n",
       "           4.65280384e-10, 4.52671383e-10, 4.40403517e-10, 4.28467577e-10,\n",
       "           4.16854599e-10, 4.05555863e-10, 3.94562884e-10, 3.83867403e-10,\n",
       "           3.73461386e-10, 3.63337015e-10, 3.53486682e-10, 3.43902983e-10,\n",
       "           3.34578716e-10, 3.25506871e-10, 3.16680628e-10, 3.08093351e-10] erg / (cm3 s)>"
      ]
     },
     "execution_count": 435,
     "metadata": {},
     "output_type": "execute_result"
    }
   ],
   "source": [
    "#calculate the blackbody spectrum of the star \n",
    "I_v = flux_density(lamb_arr, T_eff, dist,R_star)\n",
    "I_v"
   ]
  },
  {
   "cell_type": "code",
   "execution_count": 436,
   "metadata": {},
   "outputs": [
    {
     "name": "stderr",
     "output_type": "stream",
     "text": [
      "/Users/emilybroadbent/opt/anaconda3/lib/python3.8/site-packages/astropy/units/quantity.py:486: RuntimeWarning: overflow encountered in power\n",
      "  result = super().__array_ufunc__(function, method, *arrays, **kwargs)\n"
     ]
    },
    {
     "data": {
      "text/latex": [
       "$[0,~0,~0,~\\dots,~6.8911954 \\times 10^{-7},~6.9424485 \\times 10^{-7},~6.992089 \\times 10^{-7}] \\; \\mathrm{\\frac{erg}{s\\,cm^{3}}}$"
      ],
      "text/plain": [
       "<Quantity [0.00000000e+000, 0.00000000e+000, 0.00000000e+000,\n",
       "           0.00000000e+000, 0.00000000e+000, 0.00000000e+000,\n",
       "           0.00000000e+000, 0.00000000e+000, 0.00000000e+000,\n",
       "           0.00000000e+000, 0.00000000e+000, 0.00000000e+000,\n",
       "           0.00000000e+000, 0.00000000e+000, 0.00000000e+000,\n",
       "           0.00000000e+000, 0.00000000e+000, 0.00000000e+000,\n",
       "           0.00000000e+000, 0.00000000e+000, 0.00000000e+000,\n",
       "           0.00000000e+000, 0.00000000e+000, 0.00000000e+000,\n",
       "           0.00000000e+000, 0.00000000e+000, 0.00000000e+000,\n",
       "           0.00000000e+000, 0.00000000e+000, 0.00000000e+000,\n",
       "           0.00000000e+000, 0.00000000e+000, 0.00000000e+000,\n",
       "           0.00000000e+000, 0.00000000e+000, 0.00000000e+000,\n",
       "           0.00000000e+000, 0.00000000e+000, 0.00000000e+000,\n",
       "           0.00000000e+000, 0.00000000e+000, 0.00000000e+000,\n",
       "           0.00000000e+000, 0.00000000e+000, 0.00000000e+000,\n",
       "           0.00000000e+000, 0.00000000e+000, 0.00000000e+000,\n",
       "           0.00000000e+000, 0.00000000e+000, 0.00000000e+000,\n",
       "           0.00000000e+000, 0.00000000e+000, 0.00000000e+000,\n",
       "           0.00000000e+000, 0.00000000e+000, 0.00000000e+000,\n",
       "           0.00000000e+000, 0.00000000e+000, 0.00000000e+000,\n",
       "           0.00000000e+000, 0.00000000e+000, 0.00000000e+000,\n",
       "           0.00000000e+000, 0.00000000e+000, 0.00000000e+000,\n",
       "           0.00000000e+000, 0.00000000e+000, 0.00000000e+000,\n",
       "           0.00000000e+000, 0.00000000e+000, 0.00000000e+000,\n",
       "           0.00000000e+000, 0.00000000e+000, 0.00000000e+000,\n",
       "           0.00000000e+000, 0.00000000e+000, 0.00000000e+000,\n",
       "           0.00000000e+000, 0.00000000e+000, 0.00000000e+000,\n",
       "           0.00000000e+000, 0.00000000e+000, 0.00000000e+000,\n",
       "           0.00000000e+000, 0.00000000e+000, 0.00000000e+000,\n",
       "           0.00000000e+000, 0.00000000e+000, 0.00000000e+000,\n",
       "           0.00000000e+000, 0.00000000e+000, 0.00000000e+000,\n",
       "           0.00000000e+000, 0.00000000e+000, 0.00000000e+000,\n",
       "           0.00000000e+000, 0.00000000e+000, 0.00000000e+000,\n",
       "           0.00000000e+000, 0.00000000e+000, 0.00000000e+000,\n",
       "           0.00000000e+000, 0.00000000e+000, 0.00000000e+000,\n",
       "           0.00000000e+000, 0.00000000e+000, 0.00000000e+000,\n",
       "           0.00000000e+000, 0.00000000e+000, 0.00000000e+000,\n",
       "           0.00000000e+000, 0.00000000e+000, 0.00000000e+000,\n",
       "           0.00000000e+000, 0.00000000e+000, 0.00000000e+000,\n",
       "           0.00000000e+000, 0.00000000e+000, 0.00000000e+000,\n",
       "           0.00000000e+000, 0.00000000e+000, 0.00000000e+000,\n",
       "           0.00000000e+000, 0.00000000e+000, 0.00000000e+000,\n",
       "           0.00000000e+000, 0.00000000e+000, 0.00000000e+000,\n",
       "           0.00000000e+000, 0.00000000e+000, 0.00000000e+000,\n",
       "           0.00000000e+000, 0.00000000e+000, 0.00000000e+000,\n",
       "           0.00000000e+000, 0.00000000e+000, 0.00000000e+000,\n",
       "           0.00000000e+000, 0.00000000e+000, 0.00000000e+000,\n",
       "           0.00000000e+000, 0.00000000e+000, 0.00000000e+000,\n",
       "           0.00000000e+000, 0.00000000e+000, 0.00000000e+000,\n",
       "           0.00000000e+000, 0.00000000e+000, 0.00000000e+000,\n",
       "           0.00000000e+000, 0.00000000e+000, 0.00000000e+000,\n",
       "           0.00000000e+000, 0.00000000e+000, 0.00000000e+000,\n",
       "           0.00000000e+000, 0.00000000e+000, 0.00000000e+000,\n",
       "           0.00000000e+000, 0.00000000e+000, 0.00000000e+000,\n",
       "           0.00000000e+000, 0.00000000e+000, 0.00000000e+000,\n",
       "           0.00000000e+000, 0.00000000e+000, 0.00000000e+000,\n",
       "           0.00000000e+000, 0.00000000e+000, 0.00000000e+000,\n",
       "           0.00000000e+000, 0.00000000e+000, 0.00000000e+000,\n",
       "           0.00000000e+000, 0.00000000e+000, 0.00000000e+000,\n",
       "           0.00000000e+000, 0.00000000e+000, 0.00000000e+000,\n",
       "           0.00000000e+000, 0.00000000e+000, 0.00000000e+000,\n",
       "           0.00000000e+000, 0.00000000e+000, 0.00000000e+000,\n",
       "           0.00000000e+000, 0.00000000e+000, 0.00000000e+000,\n",
       "           0.00000000e+000, 0.00000000e+000, 0.00000000e+000,\n",
       "           0.00000000e+000, 0.00000000e+000, 0.00000000e+000,\n",
       "           0.00000000e+000, 0.00000000e+000, 0.00000000e+000,\n",
       "           0.00000000e+000, 0.00000000e+000, 0.00000000e+000,\n",
       "           0.00000000e+000, 0.00000000e+000, 0.00000000e+000,\n",
       "           0.00000000e+000, 0.00000000e+000, 0.00000000e+000,\n",
       "           0.00000000e+000, 0.00000000e+000, 0.00000000e+000,\n",
       "           0.00000000e+000, 0.00000000e+000, 0.00000000e+000,\n",
       "           0.00000000e+000, 0.00000000e+000, 0.00000000e+000,\n",
       "           0.00000000e+000, 0.00000000e+000, 0.00000000e+000,\n",
       "           0.00000000e+000, 0.00000000e+000, 0.00000000e+000,\n",
       "           0.00000000e+000, 0.00000000e+000, 0.00000000e+000,\n",
       "           0.00000000e+000, 0.00000000e+000, 0.00000000e+000,\n",
       "           0.00000000e+000, 0.00000000e+000, 0.00000000e+000,\n",
       "           0.00000000e+000, 0.00000000e+000, 0.00000000e+000,\n",
       "           0.00000000e+000, 0.00000000e+000, 0.00000000e+000,\n",
       "           0.00000000e+000, 0.00000000e+000, 0.00000000e+000,\n",
       "           0.00000000e+000, 0.00000000e+000, 0.00000000e+000,\n",
       "           0.00000000e+000, 0.00000000e+000, 0.00000000e+000,\n",
       "           0.00000000e+000, 0.00000000e+000, 0.00000000e+000,\n",
       "           0.00000000e+000, 0.00000000e+000, 0.00000000e+000,\n",
       "           0.00000000e+000, 0.00000000e+000, 0.00000000e+000,\n",
       "           0.00000000e+000, 0.00000000e+000, 0.00000000e+000,\n",
       "           0.00000000e+000, 0.00000000e+000, 0.00000000e+000,\n",
       "           0.00000000e+000, 0.00000000e+000, 0.00000000e+000,\n",
       "           0.00000000e+000, 0.00000000e+000, 0.00000000e+000,\n",
       "           0.00000000e+000, 0.00000000e+000, 0.00000000e+000,\n",
       "           0.00000000e+000, 0.00000000e+000, 0.00000000e+000,\n",
       "           0.00000000e+000, 0.00000000e+000, 0.00000000e+000,\n",
       "           0.00000000e+000, 0.00000000e+000, 0.00000000e+000,\n",
       "           0.00000000e+000, 0.00000000e+000, 0.00000000e+000,\n",
       "           0.00000000e+000, 0.00000000e+000, 0.00000000e+000,\n",
       "           0.00000000e+000, 0.00000000e+000, 0.00000000e+000,\n",
       "           0.00000000e+000, 0.00000000e+000, 0.00000000e+000,\n",
       "           0.00000000e+000, 0.00000000e+000, 0.00000000e+000,\n",
       "           0.00000000e+000, 0.00000000e+000, 0.00000000e+000,\n",
       "           0.00000000e+000, 0.00000000e+000, 0.00000000e+000,\n",
       "           0.00000000e+000, 0.00000000e+000, 0.00000000e+000,\n",
       "           0.00000000e+000, 0.00000000e+000, 0.00000000e+000,\n",
       "           0.00000000e+000, 0.00000000e+000, 0.00000000e+000,\n",
       "           2.32254633e-301, 3.59994681e-299, 4.41411543e-297,\n",
       "           5.23196993e-295, 5.99912585e-293, 6.65604280e-291,\n",
       "           7.14740129e-289, 7.42988303e-287, 7.47850323e-285,\n",
       "           7.29025587e-283, 6.88433584e-281, 6.29894290e-279,\n",
       "           5.58539817e-277, 4.80081860e-275, 4.00077701e-273,\n",
       "           3.23320949e-271, 2.53440323e-269, 1.92735289e-267,\n",
       "           1.42226683e-265, 1.01865066e-263, 7.08244518e-262,\n",
       "           4.78127508e-260, 3.13469277e-258, 1.99629424e-256,\n",
       "           1.23514919e-254, 7.42618821e-253, 4.33960232e-251,\n",
       "           2.46522492e-249, 1.36166540e-247, 7.31434612e-246,\n",
       "           3.82168870e-244, 1.94264152e-242, 9.60881600e-241,\n",
       "           4.62560628e-239, 2.16755533e-237, 9.88906117e-236,\n",
       "           4.39342611e-234, 1.90105411e-232, 8.01322744e-231,\n",
       "           3.29094559e-229, 1.31707966e-227, 5.13758261e-226,\n",
       "           1.95360980e-224, 7.24311410e-223, 2.61876824e-221,\n",
       "           9.23481629e-220, 3.17682733e-218, 1.06627027e-216,\n",
       "           3.49239219e-215, 1.11643617e-213, 3.48395575e-212,\n",
       "           1.06147891e-210, 3.15807020e-209, 9.17645694e-208,\n",
       "           2.60460460e-206, 7.22257884e-205, 1.95702423e-203,\n",
       "           5.18230259e-202, 1.34134575e-200, 3.39405122e-199,\n",
       "           8.39698809e-198, 2.03153129e-196, 4.80712263e-195,\n",
       "           1.11269212e-193, 2.51975842e-192, 5.58344682e-191,\n",
       "           1.21079467e-189, 2.56996886e-188, 5.33996759e-187,\n",
       "           1.08634182e-185, 2.16408728e-184, 4.22207828e-183,\n",
       "           8.06832598e-182, 1.51045647e-180, 2.77052560e-179,\n",
       "           4.97973719e-178, 8.77206188e-177, 1.51463590e-175,\n",
       "           2.56381081e-174, 4.25494871e-173, 6.92456288e-172,\n",
       "           1.10519451e-170, 1.73018138e-169, 2.65710640e-168,\n",
       "           4.00357617e-167, 5.91924239e-166, 8.58854676e-165,\n",
       "           1.22310864e-163, 1.70985014e-162, 2.34668182e-161,\n",
       "           3.16234047e-160, 4.18481268e-159, 5.43889591e-158,\n",
       "           6.94331346e-157, 8.70758456e-156, 1.07289387e-154,\n",
       "           1.29896314e-153, 1.54550492e-152, 1.80729730e-151,\n",
       "           2.07742917e-150, 2.34753295e-149, 2.60817713e-148,\n",
       "           2.84939789e-147, 3.06132974e-146, 3.23487976e-145,\n",
       "           3.36238057e-144, 3.43815634e-143, 3.45894291e-142,\n",
       "           3.42411897e-141, 3.33572542e-140, 3.19827445e-139,\n",
       "           3.01837229e-138, 2.80419914e-137, 2.56490257e-136,\n",
       "           2.30996578e-135, 2.04860972e-134, 1.78927855e-133,\n",
       "           1.53924394e-132, 1.30434692e-131, 1.08888007e-130,\n",
       "           8.95597817e-130, 7.25832687e-129, 5.79688525e-128,\n",
       "           4.56280000e-127, 3.53989410e-126, 2.70716343e-125,\n",
       "           2.04101881e-124, 1.51715704e-123, 1.11200677e-122,\n",
       "           8.03747753e-122, 5.72940271e-121, 4.02826158e-120,\n",
       "           2.79373966e-119, 1.91141543e-118, 1.29022596e-117,\n",
       "           8.59326826e-117, 5.64771743e-116, 3.66310494e-115,\n",
       "           2.34491505e-114, 1.48164953e-113, 9.24152154e-113,\n",
       "           5.69062306e-112, 3.45965640e-111, 2.07683084e-110,\n",
       "           1.23112520e-109, 7.20732205e-109, 4.16728942e-108,\n",
       "           2.38000889e-107, 1.34272036e-106, 7.48361257e-106,\n",
       "           4.12090055e-105, 2.24214777e-104, 1.20548963e-103,\n",
       "           6.40509423e-103, 3.36345610e-102, 1.74573917e-101,\n",
       "           8.95655946e-101, 4.54261581e-100, 2.27776111e-099,\n",
       "           1.12922870e-098, 5.53555503e-098, 2.68336464e-097,\n",
       "           1.28638498e-096, 6.09913499e-096, 2.86025385e-095,\n",
       "           1.32682231e-094, 6.08871143e-094, 2.76423403e-093,\n",
       "           1.24163273e-092, 5.51838927e-092, 2.42696796e-091,\n",
       "           1.05628170e-090, 4.54978350e-090, 1.93967071e-089,\n",
       "           8.18507025e-089, 3.41904298e-088, 1.41385495e-087,\n",
       "           5.78833283e-087, 2.34628337e-086, 9.41706439e-086,\n",
       "           3.74272829e-085, 1.47308604e-084, 5.74201275e-084,\n",
       "           2.21679422e-083, 8.47696843e-083, 3.21098502e-082,\n",
       "           1.20488860e-081, 4.47913947e-081, 1.64971658e-080,\n",
       "           6.02031121e-080, 2.17696274e-079, 7.80068800e-079,\n",
       "           2.77007736e-078, 9.74888616e-078, 3.40054914e-077,\n",
       "           1.17571140e-076, 4.02936396e-076, 1.36893445e-075,\n",
       "           4.61068352e-075, 1.53960888e-074, 5.09734108e-074,\n",
       "           1.67336526e-073, 5.44724580e-073, 1.75844015e-072,\n",
       "           5.62947195e-072, 1.78740124e-071, 5.62879568e-071,\n",
       "           1.75821706e-070, 5.44775334e-070, 1.67445903e-069,\n",
       "           5.10584696e-069, 1.54461806e-068, 4.63615740e-068,\n",
       "           1.38071018e-067, 4.08016338e-067, 1.19648282e-066,\n",
       "           3.48186816e-066, 1.00558323e-065, 2.88234729e-065,\n",
       "           8.20011153e-065, 2.31558543e-064, 6.49070284e-064,\n",
       "           1.80607024e-063, 4.98897703e-063, 1.36818287e-062,\n",
       "           3.72523980e-062, 1.00707839e-061, 2.70329007e-061,\n",
       "           7.20549083e-061, 1.90720385e-060, 5.01319055e-060,\n",
       "           1.30868659e-059, 3.39298603e-059, 8.73723416e-059,\n",
       "           2.23476428e-058, 5.67774033e-058, 1.43293164e-057,\n",
       "           3.59253906e-057, 8.94794714e-057, 2.21416954e-056,\n",
       "           5.44356508e-056, 1.32972075e-055, 3.22746260e-055,\n",
       "           7.78403651e-055, 1.86556499e-054, 4.44320800e-054,\n",
       "           1.05167702e-053, 2.47392320e-053, 5.78397771e-053,\n",
       "           1.34407013e-052, 3.10449095e-052, 7.12771155e-052,\n",
       "           1.62674343e-051, 3.69075387e-051, 8.32445701e-051,\n",
       "           1.86663396e-050, 4.16142729e-050, 9.22407291e-050,\n",
       "           2.03290768e-049, 4.45496428e-049, 9.70776927e-049,\n",
       "           2.10358568e-048, 4.53297457e-048, 9.71416185e-048,\n",
       "           2.07034589e-047, 4.38846295e-047, 9.25188514e-047,\n",
       "           1.94004813e-046, 4.04646088e-046, 8.39527138e-046,\n",
       "           1.73263290e-045, 3.55718590e-045, 7.26524745e-045,\n",
       "           1.47622871e-044, 2.98422603e-044, 6.00205461e-044,\n",
       "           1.20108450e-043, 2.39148517e-043, 4.73802505e-043,\n",
       "           9.34065776e-043, 1.83241073e-042, 3.57724066e-042,\n",
       "           6.94973218e-042, 1.34368375e-041, 2.58552983e-041,\n",
       "           4.95153487e-041, 9.43804719e-041, 1.79056698e-040,\n",
       "           3.38126444e-040, 6.35567618e-040, 1.18919279e-039,\n",
       "           2.21495231e-039, 4.10687735e-039, 7.58067479e-039,\n",
       "           1.39304846e-038, 2.54859109e-038, 4.64219024e-038,\n",
       "           8.41875202e-038, 1.52015400e-037, 2.73310006e-037,\n",
       "           4.89287872e-037, 8.72222238e-037, 1.54830447e-036,\n",
       "           2.73693648e-036, 4.81797740e-036, 8.44634754e-036,\n",
       "           1.47465239e-035, 2.56412496e-035, 4.44047809e-035,\n",
       "           7.65902373e-035, 1.31577695e-034, 2.25148090e-034,\n",
       "           3.83745469e-034, 6.51506941e-034, 1.10181159e-033,\n",
       "           1.85617857e-033, 3.11507030e-033, 5.20790551e-033,\n",
       "           8.67394924e-033, 1.43926414e-032, 2.37927813e-032,\n",
       "           3.91870126e-032, 6.43046554e-032, 1.05137342e-031,\n",
       "           1.71276118e-031, 2.78017880e-031, 4.49671658e-031,\n",
       "           7.24729397e-031, 1.16392352e-030, 1.86273797e-030,\n",
       "           2.97076522e-030, 4.72154948e-030, 7.47843547e-030,\n",
       "           1.18047614e-029, 1.85709504e-029, 2.91173351e-029,\n",
       "           4.55008761e-029, 7.08677290e-029, 1.10013965e-028,\n",
       "           1.70226633e-028, 2.62541145e-028, 4.03614847e-028,\n",
       "           6.18509576e-028, 9.44810785e-028, 1.43870546e-027,\n",
       "           2.18392150e-027, 3.30483382e-027, 4.98561821e-027,\n",
       "           7.49815570e-027, 1.12425578e-026, 1.68058378e-026,\n",
       "           2.50465918e-026, 3.72168441e-026, 5.51368339e-026,\n",
       "           8.14449876e-026, 1.19954342e-025, 1.76159236e-025,\n",
       "           2.57953479e-025, 3.76645280e-025, 5.48387333e-025,\n",
       "           7.96186047e-025, 1.15271630e-024, 1.66425332e-024,\n",
       "           2.39614943e-024, 3.44044105e-024, 4.92638476e-024,\n",
       "           7.03500958e-024, 1.00191605e-023, 1.42310291e-023,\n",
       "           2.01598650e-023, 2.84834913e-023, 4.01384877e-023,\n",
       "           5.64155486e-023, 7.90886999e-023, 1.10589934e-022,\n",
       "           1.54244607e-022, 2.14587897e-022, 2.97789160e-022,\n",
       "           4.12219460e-022, 5.69208677e-022, 7.84052904e-022,\n",
       "           1.07735151e-021, 1.47677727e-021, 2.01941399e-021,\n",
       "           2.75483581e-021, 3.74915372e-021, 5.09031970e-021,\n",
       "           6.89506275e-021, 9.31793675e-021, 1.25630948e-020,\n",
       "           1.68995748e-020, 2.26810973e-020, 3.03716450e-020,\n",
       "           4.05784370e-020, 5.40943367e-020, 7.19522625e-020,\n",
       "           9.54948437e-020, 1.26463384e-019, 1.67111229e-019,\n",
       "           2.20347908e-019, 2.89921987e-019, 3.80652526e-019,\n",
       "           4.98721384e-019, 6.52041599e-019, 8.50720584e-019,\n",
       "           1.10764131e-018, 1.43918992e-018, 1.86616478e-018,\n",
       "           2.41490973e-018, 3.11872380e-018, 4.01961128e-018,\n",
       "           5.17044968e-018, 6.63766971e-018, 8.50456153e-018,\n",
       "           1.08753452e-017, 1.38801714e-017, 1.76812533e-017,\n",
       "           2.24803696e-017, 2.85280270e-017, 3.61346272e-017,\n",
       "           4.56840502e-017, 5.76501429e-017, 7.26166970e-017,\n",
       "           9.13016064e-017, 1.14586023e-016, 1.43549473e-016,\n",
       "           1.79512086e-016, 2.24085251e-016, 2.79232307e-016,\n",
       "           3.47341086e-016, 4.31310470e-016, 5.34653492e-016,\n",
       "           6.61619897e-016, 8.17341576e-016, 1.00800484e-015,\n",
       "           1.24105407e-015, 1.52543214e-015, 1.87186352e-015,\n",
       "           2.29318737e-015, 2.80474836e-015, 3.42485482e-015,\n",
       "           4.17531454e-015, 5.08206048e-015, 6.17588014e-015,\n",
       "           7.49326433e-015, 9.07739312e-015, 1.09792793e-014,\n",
       "           1.32590921e-014, 1.59876871e-014, 1.92483719e-014,\n",
       "           2.31389388e-014, 2.77740037e-014, 3.32876908e-014,\n",
       "           3.98367090e-014, 4.76038732e-014, 5.68021264e-014,\n",
       "           6.76791279e-014, 8.05224766e-014, 9.56656509e-014,\n",
       "           1.13494749e-013, 1.34456131e-013, 1.59065057e-013,\n",
       "           1.87915458e-013, 2.21690943e-013, 2.61177204e-013,\n",
       "           3.07275958e-013, 3.61020600e-013, 4.23593746e-013,\n",
       "           4.96346867e-013, 5.80822231e-013, 6.78777374e-013,\n",
       "           7.92212369e-013, 9.23400155e-013, 1.07492021e-012,\n",
       "           1.24969591e-012, 1.45103588e-012, 1.68267969e-012,\n",
       "           1.94884836e-012, 2.25429997e-012, 2.60439088e-012,\n",
       "           3.00514301e-012, 3.46331768e-012, 3.98649651e-012,\n",
       "           4.58316992e-012, 5.26283380e-012, 6.03609500e-012,\n",
       "           6.91478621e-012, 7.91209089e-012, 9.04267898e-012,\n",
       "           1.03228540e-011, 1.17707125e-011, 1.34063161e-011,\n",
       "           1.52518777e-011, 1.73319620e-011, 1.96737010e-011,\n",
       "           2.23070263e-011, 2.52649181e-011, 2.85836716e-011,\n",
       "           3.23031831e-011, 3.64672545e-011, 4.11239192e-011,\n",
       "           4.63257882e-011, 5.21304198e-011, 5.86007102e-011,\n",
       "           6.58053097e-011, 7.38190618e-011, 8.27234685e-011,\n",
       "           9.26071806e-011, 1.03566515e-010, 1.15706000e-010,\n",
       "           1.29138944e-010, 1.43988038e-010, 1.60385982e-010,\n",
       "           1.78476142e-010, 1.98413235e-010, 2.20364042e-010,\n",
       "           2.44508149e-010, 2.71038724e-010, 3.00163307e-010,\n",
       "           3.32104645e-010, 3.67101539e-010, 4.05409730e-010,\n",
       "           4.47302798e-010, 4.93073097e-010, 5.43032703e-010,\n",
       "           5.97514393e-010, 6.56872632e-010, 7.21484591e-010,\n",
       "           7.91751172e-010, 8.68098046e-010, 9.50976711e-010,\n",
       "           1.04086555e-009, 1.13827090e-009, 1.24372810e-009,\n",
       "           1.35780261e-009, 1.48109103e-009, 1.61422214e-009,\n",
       "           1.75785802e-009, 1.91269500e-009, 2.07946471e-009,\n",
       "           2.25893505e-009, 2.45191114e-009, 2.65923627e-009,\n",
       "           2.88179273e-009, 3.12050270e-009, 3.37632901e-009,\n",
       "           3.65027586e-009, 3.94338953e-009, 4.25675899e-009,\n",
       "           4.59151640e-009, 4.94883761e-009, 5.32994251e-009,\n",
       "           5.73609538e-009, 6.16860504e-009, 6.62882497e-009,\n",
       "           7.11815335e-009, 7.63803290e-009, 8.18995071e-009,\n",
       "           8.77543790e-009, 9.39606913e-009, 1.00534621e-008,\n",
       "           1.07492767e-008, 1.14852143e-008, 1.22630167e-008,\n",
       "           1.30844652e-008, 1.39513788e-008, 1.48656135e-008,\n",
       "           1.58290602e-008, 1.68436432e-008, 1.79113184e-008,\n",
       "           1.90340710e-008, 2.02139138e-008, 2.14528844e-008,\n",
       "           2.27530431e-008, 2.41164700e-008, 2.55452624e-008,\n",
       "           2.70415318e-008, 2.86074011e-008, 3.02450010e-008,\n",
       "           3.19564667e-008, 3.37439348e-008, 3.56095395e-008,\n",
       "           3.75554087e-008, 3.95836605e-008, 4.16963989e-008,\n",
       "           4.38957100e-008, 4.61836580e-008, 4.85622803e-008,\n",
       "           5.10335842e-008, 5.35995416e-008, 5.62620850e-008,\n",
       "           5.90231031e-008, 6.18844360e-008, 6.48478707e-008,\n",
       "           6.79151366e-008, 7.10879010e-008, 7.43677643e-008,\n",
       "           7.77562555e-008, 8.12548276e-008, 8.48648532e-008,\n",
       "           8.85876201e-008, 9.24243265e-008, 9.63760773e-008,\n",
       "           1.00443879e-007, 1.04628637e-007, 1.08931149e-007,\n",
       "           1.13352103e-007, 1.17892076e-007, 1.22551523e-007,\n",
       "           1.27330782e-007, 1.32230063e-007, 1.37249452e-007,\n",
       "           1.42388902e-007, 1.47648235e-007, 1.53027134e-007,\n",
       "           1.58525146e-007, 1.64141678e-007, 1.69875994e-007,\n",
       "           1.75727214e-007, 1.81694312e-007, 1.87776115e-007,\n",
       "           1.93971306e-007, 2.00278414e-007, 2.06695825e-007,\n",
       "           2.13221772e-007, 2.19854341e-007, 2.26591470e-007,\n",
       "           2.33430947e-007, 2.40370417e-007, 2.47407376e-007,\n",
       "           2.54539178e-007, 2.61763032e-007, 2.69076009e-007,\n",
       "           2.76475042e-007, 2.83956926e-007, 2.91518325e-007,\n",
       "           2.99155774e-007, 3.06865678e-007, 3.14644323e-007,\n",
       "           3.22487873e-007, 3.30392379e-007, 3.38353779e-007,\n",
       "           3.46367906e-007, 3.54430489e-007, 3.62537161e-007,\n",
       "           3.70683465e-007, 3.78864853e-007, 3.87076699e-007,\n",
       "           3.95314298e-007, 4.03572877e-007, 4.11847596e-007,\n",
       "           4.20133558e-007, 4.28425813e-007, 4.36719362e-007,\n",
       "           4.45009169e-007, 4.53290161e-007, 4.61557238e-007,\n",
       "           4.69805278e-007, 4.78029144e-007, 4.86223689e-007,\n",
       "           4.94383766e-007, 5.02504228e-007, 5.10579942e-007,\n",
       "           5.18605789e-007, 5.26576674e-007, 5.34487530e-007,\n",
       "           5.42333328e-007, 5.50109077e-007, 5.57809836e-007,\n",
       "           5.65430715e-007, 5.72966885e-007, 5.80413582e-007,\n",
       "           5.87766110e-007, 5.95019851e-007, 6.02170267e-007,\n",
       "           6.09212907e-007, 6.16143411e-007, 6.22957514e-007,\n",
       "           6.29651053e-007, 6.36219968e-007, 6.42660311e-007,\n",
       "           6.48968245e-007, 6.55140050e-007, 6.61172128e-007,\n",
       "           6.67061006e-007, 6.72803335e-007, 6.78395900e-007,\n",
       "           6.83835617e-007, 6.89119538e-007, 6.94244855e-007,\n",
       "           6.99208897e-007] erg / (cm3 s)>"
      ]
     },
     "execution_count": 436,
     "metadata": {},
     "output_type": "execute_result"
    }
   ],
   "source": [
    "#calculate the blackbody spectrum of the cloud\n",
    "S_v = flux_density(lamb_arr, T_c, dist,R_c)\n",
    "S_v"
   ]
  },
  {
   "cell_type": "code",
   "execution_count": 437,
   "metadata": {},
   "outputs": [],
   "source": [
    "#calculates and returns the full radiative transfer equation (combined)\n",
    "#I_v: blackbody spectrum of the star\n",
    "#S_v: blackbody spectrum of the cloud\n",
    "#lamb_arr: array of wavelengths\n",
    "def I_comb(I_v, S_v, lamb_arr):\n",
    "    t_v= lamb_arr/(1*u.micron)\n",
    "    I_comb = I_v*np.e**(-t_v) + S_v*(1-np.e**(-t_v))\n",
    "    return  I_comb"
   ]
  },
  {
   "cell_type": "code",
   "execution_count": 438,
   "metadata": {},
   "outputs": [
    {
     "data": {
      "image/png": "[encoded data removed]",
      "text/plain": [
       "<Figure size 432x288 with 1 Axes>"
      ]
     },
     "metadata": {
      "needs_background": "light"
     },
     "output_type": "display_data"
    }
   ],
   "source": [
    "#graphs individual and combined blackbody spectrums\n",
    "distance = 10*u.pc  #given\n",
    "\n",
    "R_obj1 = R_star\n",
    "R_obj2 = R_c\n",
    "\n",
    "lambda_log_sampling= np.logspace(-1, 2, num=1000, base=10) * u.micron\n",
    "lamb_arr = lambda_log_sampling\n",
    "\n",
    "flux_1 = I_v\n",
    "flux_2 = S_v\n",
    "flux_comb = I_comb(I_v, S_v, lamb_arr)\n",
    "\n",
    "x = lamb_arr\n",
    "y = flux_comb\n",
    "plt.loglog(x, y, label='Combined') \n",
    "\n",
    "x = lamb_arr\n",
    "y = flux_1\n",
    "plt.loglog(x, y, label='Star')\n",
    "\n",
    "x = lamb_arr\n",
    "y = flux_2\n",
    "plt.loglog(x, y, label='Cloud')\n",
    "\n",
    "plt.xlabel('Wavelength') \n",
    "plt.ylabel('Flux Density') \n",
    "plt.title('Blackbody Spectrum of a star and cloud')\n",
    "plt.legend(loc='best')\n",
    "plt.show()"
   ]
  },
  {
   "cell_type": "code",
   "execution_count": 439,
   "metadata": {},
   "outputs": [
    {
     "data": {
      "image/png": "[encoded data removed]",
      "text/plain": [
       "<Figure size 432x288 with 1 Axes>"
      ]
     },
     "metadata": {
      "needs_background": "light"
     },
     "output_type": "display_data"
    }
   ],
   "source": [
    "x = lamb_arr\n",
    "y = flux_comb\n",
    "plt.loglog(x, y, label='Combined')\n",
    "\n",
    "plt.xlabel('Wavelength') \n",
    "plt.ylabel('Flux Density') \n",
    "plt.title('Blackbody Spectrum of a star and cloud')\n",
    "plt.legend(loc='best')\n",
    "plt.show()"
   ]
  },
  {
   "cell_type": "markdown",
   "metadata": {},
   "source": [
    "In the figure above, I clearly see both the spectra for the star and the cloud in the combined spectra. It should be much easier to identify a companion here than in 3.b"
   ]
  },
  {
   "cell_type": "code",
   "execution_count": null,
   "metadata": {},
   "outputs": [],
   "source": []
  },
  {
   "cell_type": "code",
   "execution_count": null,
   "metadata": {},
   "outputs": [],
   "source": []
  }
 ],
 "metadata": {
  "kernelspec": {
   "display_name": "Python 3",
   "language": "python",
   "name": "python3"
  },
  "language_info": {
   "codemirror_mode": {
    "name": "ipython",
    "version": 3
   },
   "file_extension": ".py",
   "mimetype": "text/x-python",
   "name": "python",
   "nbconvert_exporter": "python",
   "pygments_lexer": "ipython3",
   "version": "3.8.5"
  }
 },
 "nbformat": 4,
 "nbformat_minor": 4
}
